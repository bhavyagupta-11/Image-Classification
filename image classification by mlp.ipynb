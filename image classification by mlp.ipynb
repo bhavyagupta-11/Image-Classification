{
 "cells": [
  {
   "cell_type": "markdown",
   "id": "deabf41c",
   "metadata": {},
   "source": [
    "DATASET PREPARATION"
   ]
  },
  {
   "cell_type": "code",
   "execution_count": 1,
   "id": "d44b8039",
   "metadata": {},
   "outputs": [],
   "source": [
    "import numpy as np\n",
    "import os\n",
    "from os import listdir\n",
    "from pathlib import Path\n",
    "import keras.utils as image\n",
    "import glob"
   ]
  },
  {
   "cell_type": "code",
   "execution_count": 2,
   "id": "e9c75ba6",
   "metadata": {},
   "outputs": [],
   "source": [
    "folder_dir=r\"C:\\Users\\91893\\machine learning\\Image Classification\\images\"\n",
    "p=Path(folder_dir)\n",
    "dirs=p.glob(\"*\")\n",
    "labels_dict={\"cat\":0,\"horse\":1,\"human\":2}\n",
    " \n",
    "image_data=[]\n",
    "labels=[]\n",
    "for folder_name in dirs:\n",
    "    label=str(folder_name).split(\"\\\\\")[-1][:-1]\n",
    "    \n",
    "    for img_path in folder_name.glob(\"*.jpg\"):\n",
    "        img=image.load_img(img_path,target_size=(10,10))\n",
    "        img_array=image.img_to_array(img)\n",
    "        image_data.append(img_array)\n",
    "        labels.append(labels_dict[label])\n",
    "    \n",
    "    for img_path in folder_name.glob(\"*.png\"):\n",
    "        img=image.load_img(img_path,target_size=(10,10))\n",
    "        img_array=image.img_to_array(img)\n",
    "        image_data.append(img_array)\n",
    "        labels.append(labels_dict[label])"
   ]
  },
  {
   "cell_type": "code",
   "execution_count": 3,
   "id": "43a35b83",
   "metadata": {},
   "outputs": [],
   "source": [
    "#convert data \n",
    "image_data=np.array(image_data,dtype='float32')/255.0\n",
    "labels=np.array(labels)\n",
    "\n",
    "X=np.array(image_data)\n",
    "Y=np.array(labels)\n",
    "\n",
    "from sklearn.utils import shuffle\n",
    "X,Y=shuffle(X,Y,random_state=2)"
   ]
  },
  {
   "cell_type": "code",
   "execution_count": 4,
   "id": "08186e15",
   "metadata": {},
   "outputs": [],
   "source": [
    "#Visualise the data\n",
    "def drawImg(img):\n",
    "    from matplotlib import pyplot as plt\n",
    "    plt.imshow(img)\n",
    "    plt.show()"
   ]
  },
  {
   "cell_type": "code",
   "execution_count": 5,
   "id": "6f1c29d7",
   "metadata": {},
   "outputs": [],
   "source": [
    "#Create Training and Testing data\n",
    "split=int(X.shape[0]*0.8)\n",
    "\n",
    "X_=np.array(X)\n",
    "Y_=np.array(Y)\n",
    "\n",
    "#Training set\n",
    "X=X_[:split,:]\n",
    "Y=Y_[:split]\n",
    "\n",
    "#Testing set\n",
    "Xtest=X_[split:,:]\n",
    "Ytest=Y_[split:]\n"
   ]
  },
  {
   "cell_type": "code",
   "execution_count": 6,
   "id": "11d7fdf0",
   "metadata": {},
   "outputs": [],
   "source": [
    "def softmax(a):\n",
    "    e=np.exp(a) #vector\n",
    "    ans=e/np.sum(e,axis=1,keepdims=True)  #keepdims allows it to be linear array\n",
    "    return ans"
   ]
  },
  {
   "cell_type": "code",
   "execution_count": 7,
   "id": "c706419e",
   "metadata": {},
   "outputs": [],
   "source": [
    "class NeuralNetwork:\n",
    "    def __init__(self,input_size,layers,output_size):\n",
    "        np.random.seed(0)\n",
    "        model={}\n",
    "        #For first layer\n",
    "        model['W1']=np.random.randn(input_size,layers[0])\n",
    "        model['b1']=np.zeros((1,layers[0]))\n",
    "        \n",
    "        #For second layer\n",
    "        model['W2']=np.random.randn(layers[0],layers[1])\n",
    "        model['b2']=np.zeros((1,layers[1]))\n",
    "        \n",
    "        #For final layer\n",
    "        model['W3']=np.random.randn(layers[1],output_size)\n",
    "        model['b3']=np.zeros((1,output_size))\n",
    "        \n",
    "        self.model=model \n",
    "        self.activation_output_=None\n",
    "        \n",
    "    #Forward Propogation\n",
    "    def forward(self,x):\n",
    "        W1,W2,W3=self.model['W1'],self.model['W2'],self.model['W3']\n",
    "        b1,b2,b3=self.model['b1'],self.model['b2'],self.model['b3']\n",
    "        \n",
    "        z1=np.dot(x,W1)+b1\n",
    "        a1=np.tanh(z1)\n",
    "        \n",
    "        z2=np.dot(a1,W2)+b2\n",
    "        a2=np.tanh(z2)\n",
    "        \n",
    "        z3=np.dot(a2,W3)+b3\n",
    "        y_=softmax(z3)\n",
    "        \n",
    "        self.activation_outputs=(a1,a2,y_)\n",
    "        return y_\n",
    "    \n",
    "    #Backward Propogation\n",
    "    def backward(self,x,y,learning_rate=0.001):\n",
    "        W1,W2,W3=self.model['W1'],self.model['W2'],self.model['W3']\n",
    "        b1,b2,b3=self.model['b1'],self.model['b2'],self.model['b3']\n",
    "        m=x.shape[0]\n",
    "        \n",
    "        a1,a2,y_=self.activation_outputs\n",
    "        \n",
    "        #we will start by computing error in the final step\n",
    "        delta3=y_-y\n",
    "        dw3=np.dot(a2.T,delta3)\n",
    "        db3=np.sum(delta3,axis=0)/float(m)\n",
    "        \n",
    "        delta2=(1-np.square(a2))*np.dot(delta3,W3.T)\n",
    "        dw2=np.dot(a1.T,delta2)\n",
    "        db2=np.sum(delta2,axis=0)/float(m)\n",
    "        \n",
    "        delta1=(1-np.square(a1))*np.dot(delta2,W2.T)\n",
    "        dw1=np.dot(X.T,delta1)\n",
    "        db1=np.sum(delta1,axis=0)/float(m)\n",
    "        \n",
    "        \n",
    "        #Update the model parameters using Gradient Descent\n",
    "        self.model['W1']-=learning_rate*dw1\n",
    "        self.model['b1']-=learning_rate*db1\n",
    "        \n",
    "        self.model['W2']-=learning_rate*dw2\n",
    "        self.model['b2']-=learning_rate*db2\n",
    "        \n",
    "        self.model['W3']-=learning_rate*dw3\n",
    "        self.model['b3']-=learning_rate*db3\n",
    "        \n",
    "    def predict(self,x):\n",
    "        y_out=self.forward(x)\n",
    "        return np.argmax(y_out,axis=1)\n",
    "    \n",
    "    def summary(self):\n",
    "        W1,W2,W3=self.model['W1'],self.model['W2'],self.model['W3']\n",
    "        a1,a2,y_=self.activation_outputs\n",
    "        \n",
    "        print(\"W1\",W1.shape)\n",
    "        print('A1',a1.shape)\n",
    "        \n",
    "        print(\"W2\",W2.shape)\n",
    "        print('A2',a2.shape)\n",
    "        \n",
    "        print(\"W3\",W3.shape)\n",
    "        print('A3',y_.shape)\n",
    "        "
   ]
  },
  {
   "cell_type": "code",
   "execution_count": 8,
   "id": "081876b2",
   "metadata": {},
   "outputs": [],
   "source": [
    "def loss(y_oht,p):\n",
    "    l=-np.mean(y_oht*np.log(p))\n",
    "    return l\n",
    "\n",
    "def one_hot(y,depth):\n",
    "    m=y.shape[0]\n",
    "    y_oht=np.zeros((m,depth))\n",
    "    y_oht[np.arange(m),y]=1\n",
    "    return y_oht\n",
    "\n",
    "def train(X,Y,model,epochs,learning_rate,logs=True):\n",
    "    training_loss=[]\n",
    "    classes=len(np.unique(Y))\n",
    "    Y_OHT=one_hot(Y,classes)\n",
    "    \n",
    "    for i in range(epochs):\n",
    "        Y_=model.forward(X)\n",
    "        l=loss(Y_OHT,Y_)\n",
    "        model.backward(X,Y_OHT,learning_rate)\n",
    "        training_loss.append(l)\n",
    "\n",
    "    return training_loss"
   ]
  },
  {
   "cell_type": "code",
   "execution_count": 9,
   "id": "836144b5",
   "metadata": {},
   "outputs": [],
   "source": [
    "model=NeuralNetwork(input_size=300,layers=[100,50],output_size=3)"
   ]
  },
  {
   "cell_type": "code",
   "execution_count": 10,
   "id": "ffd847d0",
   "metadata": {},
   "outputs": [],
   "source": [
    "X=X.reshape(X.shape[0],-1)\n",
    "Xtest=Xtest.reshape(Xtest.shape[0],-1)"
   ]
  },
  {
   "cell_type": "code",
   "execution_count": 11,
   "id": "497c7df5",
   "metadata": {},
   "outputs": [],
   "source": [
    "l=train(X,Y,model,500,0.0001)"
   ]
  },
  {
   "cell_type": "code",
   "execution_count": 12,
   "id": "c03d80ec",
   "metadata": {},
   "outputs": [
    {
     "data": {
      "image/png": "[encoded data removed]",
      "text/plain": [
       "<Figure size 432x288 with 1 Axes>"
      ]
     },
     "metadata": {
      "needs_background": "light"
     },
     "output_type": "display_data"
    }
   ],
   "source": [
    "import matplotlib.pyplot as plt\n",
    "plt.plot(l)\n",
    "plt.show()"
   ]
  },
  {
   "cell_type": "code",
   "execution_count": 13,
   "id": "ac081bc3",
   "metadata": {},
   "outputs": [],
   "source": [
    "def getAccuracy(X,Y,model):\n",
    "    outputs=model.predict(X)\n",
    "    acc=np.sum(outputs==Y)/Y.shape[0]\n",
    "    return acc"
   ]
  },
  {
   "cell_type": "code",
   "execution_count": 14,
   "id": "e0e87fac",
   "metadata": {},
   "outputs": [
    {
     "data": {
      "text/plain": [
       "0.9254709254709255"
      ]
     },
     "execution_count": 14,
     "metadata": {},
     "output_type": "execute_result"
    }
   ],
   "source": [
    "getAccuracy(X,Y,model)"
   ]
  },
  {
   "cell_type": "code",
   "execution_count": 15,
   "id": "f2651a81",
   "metadata": {},
   "outputs": [
    {
     "data": {
      "text/plain": [
       "0.6274509803921569"
      ]
     },
     "execution_count": 15,
     "metadata": {},
     "output_type": "execute_result"
    }
   ],
   "source": [
    "getAccuracy(Xtest,Ytest,model)"
   ]
  },
  {
   "cell_type": "code",
   "execution_count": 16,
   "id": "28543e13",
   "metadata": {},
   "outputs": [],
   "source": [
    " #here the data is getting overfitted"
   ]
  },
  {
   "cell_type": "markdown",
   "id": "7f551492",
   "metadata": {},
   "source": [
    "OverFitting Computations"
   ]
  },
  {
   "cell_type": "code",
   "execution_count": 17,
   "id": "0045f32e",
   "metadata": {},
   "outputs": [],
   "source": [
    "from sklearn.metrics import classification_report"
   ]
  },
  {
   "cell_type": "code",
   "execution_count": 18,
   "id": "d82330e8",
   "metadata": {},
   "outputs": [
    {
     "name": "stdout",
     "output_type": "stream",
     "text": [
      "              precision    recall  f1-score   support\n",
      "\n",
      "           0       0.92      0.92      0.92       403\n",
      "           1       0.91      0.92      0.92       395\n",
      "           2       0.94      0.94      0.94       423\n",
      "\n",
      "    accuracy                           0.93      1221\n",
      "   macro avg       0.93      0.93      0.93      1221\n",
      "weighted avg       0.93      0.93      0.93      1221\n",
      "\n"
     ]
    }
   ],
   "source": [
    "print(classification_report(model.predict(X),Y))"
   ]
  },
  {
   "cell_type": "code",
   "execution_count": 19,
   "id": "cf2ff0dc",
   "metadata": {},
   "outputs": [],
   "source": [
    "#Visualise misclassifications\n",
    "outputs=model.predict(X)\n",
    "for i in range(Y.shape[0]):\n",
    "    if Y[i]!=outputs[i]:\n",
    "        pass\n",
    "        #drawImg(X[i].reshape(20,20,3))\n",
    "        #print (Y[i],outputs[i])"
   ]
  },
  {
   "cell_type": "code",
   "execution_count": 20,
   "id": "8c00631a",
   "metadata": {},
   "outputs": [],
   "source": [
    "from sklearn.metrics import confusion_matrix\n",
    "from sklearn import metrics"
   ]
  },
  {
   "cell_type": "code",
   "execution_count": 21,
   "id": "a08475eb",
   "metadata": {},
   "outputs": [],
   "source": [
    "cnf_matrix=confusion_matrix(outputs,Y)\n",
    "cm_display = metrics.ConfusionMatrixDisplay(confusion_matrix = cnf_matrix)"
   ]
  },
  {
   "cell_type": "code",
   "execution_count": 22,
   "id": "0cd5f715",
   "metadata": {},
   "outputs": [
    {
     "data": {
      "image/png": "[encoded data removed]",
      "text/plain": [
       "<Figure size 432x288 with 2 Axes>"
      ]
     },
     "metadata": {
      "needs_background": "light"
     },
     "output_type": "display_data"
    }
   ],
   "source": [
    "cm_display.plot()\n",
    "plt.show()"
   ]
  },
  {
   "cell_type": "code",
   "execution_count": null,
   "id": "200068d5",
   "metadata": {},
   "outputs": [],
   "source": []
  }
 ],
 "metadata": {
  "kernelspec": {
   "display_name": "Python 3 (ipykernel)",
   "language": "python",
   "name": "python3"
  },
  "language_info": {
   "codemirror_mode": {
    "name": "ipython",
    "version": 3
   },
   "file_extension": ".py",
   "mimetype": "text/x-python",
   "name": "python",
   "nbconvert_exporter": "python",
   "pygments_lexer": "ipython3",
   "version": "3.9.12"
  }
 },
 "nbformat": 4,
 "nbformat_minor": 5
}
