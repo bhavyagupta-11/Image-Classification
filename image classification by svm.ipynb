{
 "cells": [
  {
   "cell_type": "markdown",
   "id": "1b53f003",
   "metadata": {},
   "source": [
    "# Dataset Preparation"
   ]
  },
  {
   "cell_type": "code",
   "execution_count": 4,
   "id": "ea5410d8",
   "metadata": {},
   "outputs": [],
   "source": [
    "import numpy as np\n",
    "import os\n",
    "from os import listdir\n",
    "from pathlib import Path\n",
    "import keras.utils as image\n",
    "import glob"
   ]
  },
  {
   "cell_type": "markdown",
   "id": "f3da868e",
   "metadata": {},
   "source": [
    "dataset preparation"
   ]
  },
  {
   "cell_type": "code",
   "execution_count": 5,
   "id": "48471f86",
   "metadata": {},
   "outputs": [],
   "source": [
    "folder_dir=r\"C:\\Users\\91893\\machine learning\\Image Classification\\images\"\n",
    "p=Path(folder_dir)\n",
    "dirs=p.glob(\"*\")\n",
    "labels_dict={\"cat\":0,\"horse\":1,\"human\":2}\n",
    " \n",
    "image_data=[]\n",
    "labels=[]\n",
    "for folder_name in dirs:\n",
    "    label=str(folder_name).split(\"\\\\\")[-1][:-1]\n",
    "    \n",
    "    for img_path in folder_name.glob(\"*.jpg\"):\n",
    "        img=image.load_img(img_path,target_size=(20,20))\n",
    "        img_array=image.img_to_array(img)\n",
    "        image_data.append(img_array)\n",
    "        labels.append(labels_dict[label])\n",
    "    \n",
    "    for img_path in folder_name.glob(\"*.png\"):\n",
    "        img=image.load_img(img_path,target_size=(20,20))\n",
    "        img_array=image.img_to_array(img)\n",
    "        image_data.append(img_array)\n",
    "        labels.append(labels_dict[label])"
   ]
  },
  {
   "cell_type": "code",
   "execution_count": 6,
   "id": "8731dfd0",
   "metadata": {},
   "outputs": [],
   "source": [
    "#convert data \n",
    "image_data=np.array(image_data,dtype='float32')/255.0\n",
    "labels=np.array(labels)"
   ]
  },
  {
   "cell_type": "code",
   "execution_count": 7,
   "id": "a76d8f36",
   "metadata": {
    "scrolled": false
   },
   "outputs": [],
   "source": [
    "#shuffling data\n",
    "import random\n",
    "combine=list(zip(image_data,labels))\n",
    "random.shuffle(combine)\n",
    "image_data[:],labels[:]=zip(*combine)"
   ]
  },
  {
   "cell_type": "code",
   "execution_count": 81,
   "id": "79a6cbec",
   "metadata": {},
   "outputs": [],
   "source": [
    "#Visualise the data\n",
    "def drawImg(img):\n",
    "    from matplotlib import pyplot as plt\n",
    "    plt.imshow(img)\n",
    "    plt.show()"
   ]
  },
  {
   "cell_type": "markdown",
   "id": "dd5a1930",
   "metadata": {},
   "source": [
    "# SVM CLASSIFIER"
   ]
  },
  {
   "cell_type": "code",
   "execution_count": 82,
   "id": "9661664e",
   "metadata": {},
   "outputs": [],
   "source": [
    "class SVM:\n",
    "    def __init__(self,C=1.0):\n",
    "        self.C=C\n",
    "        self.W=0\n",
    "        self.b=0\n",
    "    \n",
    "    def hingeLoss(self,W,b,X,Y):\n",
    "        loss=0.0\n",
    "        loss+=0.5*np.dot(W,W.T)\n",
    "        m=X.shape[0]\n",
    "        for i in range(m):\n",
    "            t=Y[i]*(np.dot(W,X[i].T)+b)\n",
    "            loss+=self.C*max(0,(1-t))\n",
    "        return loss[0][0]\n",
    "    \n",
    "    def fit(self,X,Y,maxItr=1000,batch_size=100,learning_rate=0.00001):\n",
    "        n=X.shape[1]\n",
    "        m=X.shape[0]\n",
    "        #initialise the model parameters\n",
    "        c=self.C\n",
    "        w=np.zeros((1,n))\n",
    "        b=0\n",
    "        print(self.hingeLoss(w,b,X,Y))\n",
    "        \n",
    "        #Training starts from here\n",
    "        #weight and bias update rule\n",
    "        losses=[]\n",
    "        \n",
    "        for i in range(maxItr):\n",
    "            l=self.hingeLoss(w,b,X,Y)\n",
    "            losses.append(l)\n",
    "            ids=np.arange(m)\n",
    "            np.random.shuffle(ids)\n",
    "            #batch gradient with random shuffling\n",
    "            \n",
    "            for batch in range(0,m,batch_size):\n",
    "                #assume gradient 0 in start\n",
    "                gradw=0\n",
    "                gradb=0\n",
    "                for j in range(batch,batch+batch_size):\n",
    "                    if j<m:\n",
    "                        i=ids[j]\n",
    "                        t=Y[i]*(np.dot(w,X[i].T)+b)\n",
    "                        \n",
    "                        if t>1:\n",
    "                            gradw+=0 \n",
    "                            gradb+=0\n",
    "                        else:\n",
    "                            gradw+=c*Y[i]*X[i]\n",
    "                            gradb+=c*Y[i]\n",
    "                #Gradient update is ready\n",
    "                w = w - learning_rate * w + learning_rate*gradw\n",
    "                b = b + learning_rate * gradb\n",
    "        self.W=w\n",
    "        self.b=b\n",
    "        return w,b,losses              \n",
    "                    "
   ]
  },
  {
   "cell_type": "markdown",
   "id": "3728bd07",
   "metadata": {},
   "source": [
    "WE NEED TO CONVERT DATA FOR ONE TO ONE CLASSIFICATION"
   ]
  },
  {
   "cell_type": "code",
   "execution_count": 83,
   "id": "65ade3e9",
   "metadata": {},
   "outputs": [],
   "source": [
    "M=image_data.shape[0]\n",
    "image_data=image_data.reshape(M,-1)"
   ]
  },
  {
   "cell_type": "code",
   "execution_count": 84,
   "id": "0266e770",
   "metadata": {},
   "outputs": [],
   "source": [
    "classes=len(np.unique(labels))\n",
    "def classWiseData(x,y):\n",
    "    data={}\n",
    "    for i in range(classes):\n",
    "        data[i]=[]\n",
    "    for i in range(x.shape[0]):\n",
    "        data[y[i]].append(x[i])\n",
    "    for k in data.keys():\n",
    "        data[k]=np.array(data[k])\n",
    "    return data"
   ]
  },
  {
   "cell_type": "code",
   "execution_count": 85,
   "id": "b4446aa0",
   "metadata": {},
   "outputs": [],
   "source": [
    "data=classWiseData(image_data,labels)"
   ]
  },
  {
   "cell_type": "code",
   "execution_count": 86,
   "id": "2de87cad",
   "metadata": {},
   "outputs": [
    {
     "name": "stdout",
     "output_type": "stream",
     "text": [
      "(500, 1200)\n"
     ]
    }
   ],
   "source": [
    "print(data[1].shape)"
   ]
  },
  {
   "cell_type": "code",
   "execution_count": 87,
   "id": "b2791dfa",
   "metadata": {},
   "outputs": [],
   "source": [
    "def getDataPairForSVM(d1,d2):\n",
    "    #combines data of 2 classes into single matrix\n",
    "    \n",
    "    l1,l2=d1.shape[0],d2.shape[0]\n",
    "    samples=l1+l2\n",
    "    features=d1.shape[1]\n",
    "    data_pair=np.zeros((samples,features))\n",
    "    data_labels=np.zeros((samples,))\n",
    "    \n",
    "    data_pair[:l1,:]=d1\n",
    "    data_pair[l1:,:]=d2\n",
    "    data_labels[:l1]=-1\n",
    "    data_labels[l1:]=1\n",
    "    \n",
    "    return data_pair,data_labels "
   ]
  },
  {
   "cell_type": "code",
   "execution_count": 88,
   "id": "1f50a826",
   "metadata": {},
   "outputs": [],
   "source": [
    "mySVM=SVM()"
   ]
  },
  {
   "cell_type": "code",
   "execution_count": 89,
   "id": "61f3f8a0",
   "metadata": {},
   "outputs": [],
   "source": [
    "import matplotlib.pyplot as plt"
   ]
  },
  {
   "cell_type": "code",
   "execution_count": 90,
   "id": "08a3ccd1",
   "metadata": {},
   "outputs": [],
   "source": [
    "def trainSVM(x,y):\n",
    "    svm_classifier={}\n",
    "    for i in range(classes):\n",
    "        svm_classifier[i]={}\n",
    "        for j in range(i+1,classes):\n",
    "            xpair,ypair=getDataPairForSVM(data[i],data[j])\n",
    "            wts,bias,loss=mySVM.fit(xpair,ypair)\n",
    "            svm_classifier[i][j]=(wts,bias)\n",
    "            \n",
    "            plt.plot(loss)\n",
    "            plt.show()\n",
    "    return svm_classifier"
   ]
  },
  {
   "cell_type": "code",
   "execution_count": 91,
   "id": "7c028ead",
   "metadata": {},
   "outputs": [
    {
     "name": "stdout",
     "output_type": "stream",
     "text": [
      "1000.0\n"
     ]
    },
    {
     "data": {
      "image/png": "[encoded data removed]",
      "text/plain": [
       "<Figure size 432x288 with 1 Axes>"
      ]
     },
     "metadata": {
      "needs_background": "light"
     },
     "output_type": "display_data"
    },
    {
     "name": "stdout",
     "output_type": "stream",
     "text": [
      "1027.0\n"
     ]
    },
    {
     "data": {
      "image/png": "[encoded data removed]",
      "text/plain": [
       "<Figure size 432x288 with 1 Axes>"
      ]
     },
     "metadata": {
      "needs_background": "light"
     },
     "output_type": "display_data"
    },
    {
     "name": "stdout",
     "output_type": "stream",
     "text": [
      "1027.0\n"
     ]
    },
    {
     "data": {
      "image/png": "[encoded data removed]",
      "text/plain": [
       "<Figure size 432x288 with 1 Axes>"
      ]
     },
     "metadata": {
      "needs_background": "light"
     },
     "output_type": "display_data"
    }
   ],
   "source": [
    "classifiers=trainSVM(image_data,labels)"
   ]
  },
  {
   "cell_type": "code",
   "execution_count": 95,
   "id": "e73aac96",
   "metadata": {},
   "outputs": [
    {
     "name": "stdout",
     "output_type": "stream",
     "text": [
      "(1, 1200)\n"
     ]
    }
   ],
   "source": [
    "first=classifiers[0][1]\n",
    "print(first[0].shape)"
   ]
  },
  {
   "cell_type": "markdown",
   "id": "e7b5cf05",
   "metadata": {},
   "source": [
    "PREDICTION"
   ]
  },
  {
   "cell_type": "code",
   "execution_count": 96,
   "id": "afdd3059",
   "metadata": {},
   "outputs": [],
   "source": [
    "def binaryPredict(x,w,b):\n",
    "    z=np.dot(x,w.T)+b\n",
    "    if z>=0:\n",
    "        return 1\n",
    "    else:\n",
    "        return -1"
   ]
  },
  {
   "cell_type": "code",
   "execution_count": 100,
   "id": "03d6ab0e",
   "metadata": {},
   "outputs": [],
   "source": [
    "def predict(x):\n",
    "    count=np.zeros((classes,))\n",
    "    for i in range(classes):\n",
    "        for j in range(i+1,classes):\n",
    "            w,b=classifiers[i][j]\n",
    "            #Taking a majority prediction\n",
    "            z=binaryPredict(x,w,b)\n",
    "            if(z==1):\n",
    "                count[j]+=1\n",
    "            else:\n",
    "                count[i]+=1\n",
    "    final_prediction=np.argmax(count)\n",
    "    return final_prediction"
   ]
  },
  {
   "cell_type": "code",
   "execution_count": 98,
   "id": "bdf7eea4",
   "metadata": {},
   "outputs": [],
   "source": [
    "def accuracy(x,y):\n",
    "    count=0\n",
    "    for i in range(x.shape[0]):\n",
    "        prediction=predict(x[i])\n",
    "        if(prediction==y[i]):\n",
    "            count+=1\n",
    "    print (count/x.shape[0])"
   ]
  },
  {
   "cell_type": "code",
   "execution_count": 103,
   "id": "3f4a1a06",
   "metadata": {},
   "outputs": [
    {
     "name": "stdout",
     "output_type": "stream",
     "text": [
      "0.6260641781270465\n"
     ]
    }
   ],
   "source": [
    "accuracy(image_data,labels)"
   ]
  },
  {
   "cell_type": "code",
   "execution_count": 104,
   "id": "bd844f46",
   "metadata": {},
   "outputs": [],
   "source": [
    "#WE TRIED TO IMPROVE ACCURACY BY USING LESSER LEARNING RATE AND INCREASING ITERATIONS"
   ]
  },
  {
   "cell_type": "markdown",
   "id": "eb162549",
   "metadata": {},
   "source": [
    "USING SKLEARN"
   ]
  },
  {
   "cell_type": "code",
   "execution_count": 105,
   "id": "73a8f39e",
   "metadata": {},
   "outputs": [],
   "source": [
    "from sklearn import svm"
   ]
  },
  {
   "cell_type": "code",
   "execution_count": 106,
   "id": "d4edaa75",
   "metadata": {},
   "outputs": [
    {
     "data": {
      "text/plain": [
       "0.702030124426981"
      ]
     },
     "execution_count": 106,
     "metadata": {},
     "output_type": "execute_result"
    }
   ],
   "source": [
    "svm_classifier=svm.SVC(kernel='linear',C=1.0)\n",
    "svm_classifier.fit(image_data,labels)\n",
    "svm_classifier.score(image_data,labels)"
   ]
  },
  {
   "cell_type": "code",
   "execution_count": null,
   "id": "d8c635d3",
   "metadata": {},
   "outputs": [],
   "source": []
  }
 ],
 "metadata": {
  "kernelspec": {
   "display_name": "Python 3 (ipykernel)",
   "language": "python",
   "name": "python3"
  },
  "language_info": {
   "codemirror_mode": {
    "name": "ipython",
    "version": 3
   },
   "file_extension": ".py",
   "mimetype": "text/x-python",
   "name": "python",
   "nbconvert_exporter": "python",
   "pygments_lexer": "ipython3",
   "version": "3.9.12"
  }
 },
 "nbformat": 4,
 "nbformat_minor": 5
}
